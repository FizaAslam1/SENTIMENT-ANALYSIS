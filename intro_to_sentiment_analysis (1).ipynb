{
  "nbformat": 4,
  "nbformat_minor": 0,
  "metadata": {
    "colab": {
      "provenance": []
    },
    "kernelspec": {
      "name": "python3",
      "display_name": "Python 3"
    },
    "language_info": {
      "name": "python"
    }
  },
  "cells": [
    {
      "cell_type": "markdown",
      "source": [
        "\n",
        "\n",
        "**SENTIMENTAL ANAYLSIS**\n",
        "\n",
        "\n",
        "\n",
        "\n"
      ],
      "metadata": {
        "id": "HSF-MRlqed1j"
      }
    },
    {
      "cell_type": "code",
      "source": [
        "!pip install textblob\n",
        "\n"
      ],
      "metadata": {
        "colab": {
          "base_uri": "https://localhost:8080/"
        },
        "id": "WguPVSGXr2xD",
        "outputId": "ac825189-e433-4172-e752-f3d09f276818"
      },
      "execution_count": 7,
      "outputs": [
        {
          "output_type": "stream",
          "name": "stdout",
          "text": [
            "Requirement already satisfied: textblob in /usr/local/lib/python3.11/dist-packages (0.19.0)\n",
            "Requirement already satisfied: nltk>=3.9 in /usr/local/lib/python3.11/dist-packages (from textblob) (3.9.1)\n",
            "Requirement already satisfied: click in /usr/local/lib/python3.11/dist-packages (from nltk>=3.9->textblob) (8.2.1)\n",
            "Requirement already satisfied: joblib in /usr/local/lib/python3.11/dist-packages (from nltk>=3.9->textblob) (1.5.1)\n",
            "Requirement already satisfied: regex>=2021.8.3 in /usr/local/lib/python3.11/dist-packages (from nltk>=3.9->textblob) (2024.11.6)\n",
            "Requirement already satisfied: tqdm in /usr/local/lib/python3.11/dist-packages (from nltk>=3.9->textblob) (4.67.1)\n"
          ]
        }
      ]
    },
    {
      "cell_type": "markdown",
      "source": [
        "without taking input from user\n"
      ],
      "metadata": {
        "id": "IUSKGNDqvOW9"
      }
    },
    {
      "cell_type": "code",
      "source": [
        "from textblob import TextBlob\n",
        "\n",
        "def analyze_sentiment_local(text):\n",
        "    blob = TextBlob(text)\n",
        "    polarity = blob.sentiment.polarity  # -1 to 1\n",
        "    if polarity > 0:\n",
        "        return \"Positive\"\n",
        "    elif polarity < 0:\n",
        "        return \"Negative\"\n",
        "    else:\n",
        "        return \"Neutral\"\n",
        "\n",
        "# 🧪 Example\n",
        "feedback = \"I am not happy with the work environment.\"\n",
        "result = analyze_sentiment_local(feedback)\n",
        "print(f\"Feedback: {feedback}\\nSentiment: {result}\")\n"
      ],
      "metadata": {
        "colab": {
          "base_uri": "https://localhost:8080/"
        },
        "id": "FShSQBuIsG2V",
        "outputId": "8ea102e5-82be-4c26-c566-d453efe6f4c6"
      },
      "execution_count": 8,
      "outputs": [
        {
          "output_type": "stream",
          "name": "stdout",
          "text": [
            "Feedback: I am not happy with the work environment.\n",
            "Sentiment: Negative\n"
          ]
        }
      ]
    },
    {
      "cell_type": "markdown",
      "source": [
        "taking input from user"
      ],
      "metadata": {
        "id": "EjVKaDA3vVwo"
      }
    },
    {
      "cell_type": "code",
      "source": [
        "from textblob import TextBlob\n",
        "\n",
        "def analyze_sentiment_local(text):\n",
        "    blob = TextBlob(text)\n",
        "    polarity = blob.sentiment.polarity  # -1.0 (Negative) to +1.0 (Positive)\n",
        "    if polarity > 0:\n",
        "        return \"Positive\"\n",
        "    elif polarity < 0:\n",
        "        return \"Negative\"\n",
        "    else:\n",
        "        return \"Neutral\"\n",
        "\n",
        "# 🧑‍💻 Get input from user\n",
        "user_feedback = input(\"Please enter your feedback: \")\n",
        "\n",
        "# Analyze it\n",
        "sentiment = analyze_sentiment_local(user_feedback)\n",
        "\n",
        "# Output the result\n",
        "print(f\"\\nYour Feedback: {user_feedback}\")\n",
        "print(f\"Sentiment Detected: {sentiment}\")\n"
      ],
      "metadata": {
        "colab": {
          "base_uri": "https://localhost:8080/"
        },
        "id": "UaUKd-GBtYHd",
        "outputId": "a0f2a381-a425-4b05-ce60-bf0ca9eefce2"
      },
      "execution_count": 11,
      "outputs": [
        {
          "output_type": "stream",
          "name": "stdout",
          "text": [
            "Please enter your feedback: bevty'\n",
            "\n",
            "Your Feedback: bevty'\n",
            "Sentiment Detected: Neutral\n"
          ]
        }
      ]
    },
    {
      "cell_type": "markdown",
      "source": [
        "taking multiple input"
      ],
      "metadata": {
        "id": "34el5Jedvfso"
      }
    },
    {
      "cell_type": "code",
      "source": [
        "from textblob import TextBlob\n",
        "\n",
        "def analyze_sentiment_local(text):\n",
        "    blob = TextBlob(text)\n",
        "    polarity = blob.sentiment.polarity  # -1 to +1\n",
        "    if polarity > 0:\n",
        "        return \"Positive\"\n",
        "    elif polarity < 0:\n",
        "        return \"Negative\"\n",
        "    else:\n",
        "        return \"Neutral\"\n",
        "\n",
        "print(\"🔍 Sentiment Analysis Program (type 'exit' to quit)\\n\")\n",
        "\n",
        "while True:\n",
        "    feedback = input(\"Enter your feedback: \")\n",
        "    if feedback.lower() == \"exit\":\n",
        "        print(\"Program ended. Thank you!\")\n",
        "        break\n",
        "\n",
        "    sentiment = analyze_sentiment_local(feedback)\n",
        "    print(f\"➡️  Sentiment: {sentiment}\\n\")\n"
      ],
      "metadata": {
        "colab": {
          "base_uri": "https://localhost:8080/"
        },
        "id": "6gY4494Au49Y",
        "outputId": "08edb433-6f45-4ca7-e3c9-ab73feb24bb5"
      },
      "execution_count": 12,
      "outputs": [
        {
          "output_type": "stream",
          "name": "stdout",
          "text": [
            "🔍 Sentiment Analysis Program (type 'exit' to quit)\n",
            "\n",
            "Enter your feedback: love\n",
            "➡️  Sentiment: Positive\n",
            "\n",
            "Enter your feedback: fiza\n",
            "➡️  Sentiment: Neutral\n",
            "\n",
            "Enter your feedback: smell\n",
            "➡️  Sentiment: Neutral\n",
            "\n",
            "Enter your feedback: exit\n",
            "Program ended. Thank you!\n"
          ]
        }
      ]
    }
  ]
}